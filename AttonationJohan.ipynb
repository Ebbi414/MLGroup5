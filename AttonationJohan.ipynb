{
 "cells": [
  {
   "cell_type": "code",
   "execution_count": 8,
   "metadata": {},
   "outputs": [
    {
     "name": "stdout",
     "output_type": "stream",
     "text": [
      "                                              Combined\n",
      "0    Insändare. Svar: Trumps uttalande om Grönland ...\n",
      "1    Ledare: Undersköterskor kan inte fortsätta var...\n",
      "2    Ukrainas attack uppges vara största hittills p...\n",
      "3    Lavrov: Kommer att hålla ett vakande öga på Tr...\n",
      "4    Ukraina: Familjer till krigsfångar kontaktas a...\n",
      "..                                                 ...\n",
      "142  Replik: Raseriet är talande - <p>Att utmåla kr...\n",
      "143  Seger för Sverige om minimilöner - <p>EU:s dir...\n",
      "144  Kravet för att bli svensk: Prov i samhällskuns...\n",
      "145         Källa: Ryskt fartyg seglade vid gasledning\n",
      "146  ”Bistånd minskar inte fattigdomen” - <p>Vi vet...\n",
      "\n",
      "[147 rows x 1 columns]\n",
      "Data sparad som CSV-fil: 'attonation4.csv'\n"
     ]
    }
   ],
   "source": [
    "import feedparser #funkar bäst för RSS flöden\n",
    "import pandas as pd #för att skapa tabell\n",
    "\n",
    "RSS_URL = ['https://www.dn.se/rss/', 'http://www.svd.se/?service=rss'] #DNs RSS-feed\n",
    "\n",
    "posts = [] #lista för att lagra alla inlägg\n",
    "\n",
    "for url in RSS_URL:\n",
    "    posts.extend(feedparser.parse(url).entries) #iterera över alla flöden och hämta inlägg\n",
    "    \n",
    "# ALTERNATIV 1 MED BORTFILTRERING AV TITLAR SOM SAKNAR SUMMERY\n",
    "# #combined_data = [] #skapa en lista med endast kombinerad information\n",
    "#for post in posts:\n",
    "    #if 'title' in post and 'summary' in post:\n",
    "       # combined_data.append(f\"{post['title']} - {post['summary']}\")\n",
    "\n",
    "#ALTERNATIV 2 MED TOMMA SUMMERY  \n",
    "# Skapa en lista där titlar kombineras med summeringar (eller lämnas tomma)\n",
    "combined_data = [\n",
    "    f\"{post.get('title', '')} - {post.get('summary', '')}\".strip(\" - \")  # Behåll titeln även om summeringen saknas\n",
    "    for post in posts\n",
    "]\n",
    "\n",
    "df = pd.DataFrame(combined_data, columns=['Combined']) #konvertera till en pandas dataframe med endast en kolumnt\n",
    "\n",
    "print (df)\n",
    "\n",
    "# Spara till CSV\n",
    "df.to_csv(\n",
    "    \"attonation4.csv\", \n",
    "    index=False, \n",
    "    sep=\",\", \n",
    "    quotechar='\"'\n",
    ")\n",
    "\n",
    "print(\"Data sparad som CSV-fil: 'attonation4.csv'\")\n",
    "\n"
   ]
  },
  {
   "cell_type": "code",
   "execution_count": null,
   "metadata": {},
   "outputs": [],
   "source": []
  }
 ],
 "metadata": {
  "kernelspec": {
   "display_name": ".venv",
   "language": "python",
   "name": "python3"
  },
  "language_info": {
   "codemirror_mode": {
    "name": "ipython",
    "version": 3
   },
   "file_extension": ".py",
   "mimetype": "text/x-python",
   "name": "python",
   "nbconvert_exporter": "python",
   "pygments_lexer": "ipython3",
   "version": "3.12.0"
  }
 },
 "nbformat": 4,
 "nbformat_minor": 2
}
