{
 "cells": [
  {
   "cell_type": "code",
   "execution_count": 1,
   "metadata": {},
   "outputs": [
    {
     "name": "stdout",
     "output_type": "stream",
     "text": [
      "                                              Combined\n",
      "0    Kina redo slå tillbaka mot Trumps tullhot - År...\n",
      "1    Vesna Prekopic: Medier normaliserar sexuell ex...\n",
      "2    Insändare. Förklara krig mot små stater som Pu...\n",
      "3    Hamnarbetarförbundet varslar om blockad mot Is...\n",
      "4    Insändare. Svar: ”Den sista resan” är en mänsk...\n",
      "..                                                 ...\n",
      "144  Nato håller möte om kabelsabotagen - <p>Statsm...\n",
      "145  Anklagelserna kan medföra dödsstraff - <p>I Al...\n",
      "146         Nordkorea sköt robotar över Japanska havet\n",
      "147                Stor global ökning av sålda elbilar\n",
      "148                21-årig norska yngsta till Sydpolen\n",
      "\n",
      "[149 rows x 1 columns]\n",
      "Data sparad som CSV-fil: 'attonation2.csv'\n"
     ]
    }
   ],
   "source": [
    "import feedparser #funkar bäst för RSS flöden\n",
    "import pandas as pd #för att skapa tabell\n",
    "\n",
    "RSS_URL = ['https://www.dn.se/rss/', 'http://www.svd.se/?service=rss'] #DNs RSS-feed\n",
    "\n",
    "posts = [] #lista för att lagra alla inlägg\n",
    "\n",
    "for url in RSS_URL:\n",
    "    posts.extend(feedparser.parse(url).entries) #iterera över alla flöden och hämta inlägg\n",
    "    \n",
    "# ALTERNATIV 1 MED BORTFILTRERING AV TITLAR SOM SAKNAR SUMMERY\n",
    "# #combined_data = [] #skapa en lista med endast kombinerad information\n",
    "#for post in posts:\n",
    "    #if 'title' in post and 'summary' in post:\n",
    "       # combined_data.append(f\"{post['title']} - {post['summary']}\")\n",
    "\n",
    "#ALTERNATIV 2 MED TOMMA SUMMERY  \n",
    "# Skapa en lista där titlar kombineras med summeringar (eller lämnas tomma)\n",
    "combined_data = [\n",
    "    f\"{post.get('title', '')} - {post.get('summary', '')}\".strip(\" - \")  # Behåll titeln även om summeringen saknas\n",
    "    for post in posts\n",
    "]\n",
    "\n",
    "df = pd.DataFrame(combined_data, columns=['Combined']) #konvertera till en pandas dataframe med endast en kolumnt\n",
    "\n",
    "print (df)\n",
    "\n",
    "# Spara till CSV\n",
    "df.to_csv(\"attonation3.csv\", index=False, sep=\",\")\n",
    "\n",
    "\n",
    "print(\"Data sparad som CSV-fil: 'attonation2.csv'\")"
   ]
  }
 ],
 "metadata": {
  "kernelspec": {
   "display_name": ".venv",
   "language": "python",
   "name": "python3"
  },
  "language_info": {
   "codemirror_mode": {
    "name": "ipython",
    "version": 3
   },
   "file_extension": ".py",
   "mimetype": "text/x-python",
   "name": "python",
   "nbconvert_exporter": "python",
   "pygments_lexer": "ipython3",
   "version": "3.12.0"
  }
 },
 "nbformat": 4,
 "nbformat_minor": 2
}
