{
 "cells": [
  {
   "cell_type": "code",
   "execution_count": 6,
   "metadata": {},
   "outputs": [
    {
     "name": "stdout",
     "output_type": "stream",
     "text": [
      "                                              Combined\n",
      "0    Frederiksen har pratat med Trump: Grönland int...\n",
      "1    Polisen om nya trenden: ”Gängen spränger för a...\n",
      "2    Uefas hårda straff: Stänger Djurgårdens kortsi...\n",
      "3    Uppgifter: Israel och Hamas är överens om vape...\n",
      "4    Serbien hotas av gasbrist efter USA-sanktioner...\n",
      "..                                                 ...\n",
      "185  Nato inleder ny insats för Östersjöns säkerhet...\n",
      "186  Malin Ullgren: 1925 ringde och ville ha sina e...\n",
      "187  Marjane Satrapi tackar nej till franska Heders...\n",
      "188  Björn Wiman: Vem hade trott att gymägaren från...\n",
      "189  Här drabbas flest av halkolyckor i Stockholm -...\n",
      "\n",
      "[190 rows x 1 columns]\n",
      "Data sparad som CSV-fil: 'attonation5.csv'\n"
     ]
    }
   ],
   "source": [
    "import feedparser #funkar bäst för RSS flöden\n",
    "#hej\n",
    "import pandas as pd #för att skapa tabell\n",
    "#RSS_URLS = ['http://www.dn.se/nyheter/m/rss/',\n",
    "           # 'https://rss.aftonbladet.se/rss2/small/pages/sections/senastenytt/', 'https://feeds.expressen.se/nyheter/',\n",
    "          #  'http://www.svd.se/?service=rss', 'http://api.sr.se/api/rss/program/83?format=145',\n",
    "           # 'http://www.svt.se/nyheter/rss.xml', 'https://omni.se/rss' \n",
    "           #   ]  # Example URLs\n",
    "RSS_URL = ['http://api.sr.se/api/rss/program/83?format=145',\n",
    "            'http://www.svt.se/nyheter/rss.xml',\n",
    "            'https://rss.aftonbladet.se/rss2/small/pages/sections/senastenytt/',\n",
    "            'https://omni.se/rss', 'http://www.dn.se/nyheter/m/rss/'\n",
    "            ] #Using feeds\n",
    "\n",
    "posts = [] #lista för att lagra alla inlägg\n",
    "\n",
    "for url in RSS_URL:\n",
    "    posts.extend(feedparser.parse(url).entries) #iterera över alla flöden och hämta inlägg\n",
    "    \n",
    "# ALTERNATIV 1 MED BORTFILTRERING AV TITLAR SOM SAKNAR SUMMERY\n",
    "# #combined_data = [] #skapa en lista med endast kombinerad information\n",
    "#for post in posts:\n",
    "    #if 'title' in post and 'summary' in post:\n",
    "       # combined_data.append(f\"{post['title']} - {post['summary']}\")\n",
    "\n",
    "#ALTERNATIV 2 MED TOMMA SUMMERY  \n",
    "# Skapa en lista där titlar kombineras med summeringar (eller lämnas tomma)\n",
    "combined_data = [\n",
    "    f\"{post.get('title', '')} - {post.get('summary', '')}\".strip(\" - \")  # Behåll titeln även om summeringen saknas\n",
    "    for post in posts\n",
    "]\n",
    "\n",
    "df = pd.DataFrame(combined_data, columns=['Combined']) #konvertera till en pandas dataframe med endast en kolumnt\n",
    "\n",
    "print (df)\n",
    "\n",
    "# Spara till CSV\n",
    "df.to_csv(\n",
    "    \"attonation5.csv\", \n",
    "    index=False, \n",
    "    sep=\",\", \n",
    "    quotechar='\"'\n",
    ")\n",
    "\n",
    "print(\"Data sparad som CSV-fil: 'attonation5.csv'\")\n",
    "\n"
   ]
  },
  {
   "cell_type": "code",
   "execution_count": null,
   "metadata": {},
   "outputs": [],
   "source": []
  }
 ],
 "metadata": {
  "kernelspec": {
   "display_name": ".venv",
   "language": "python",
   "name": "python3"
  },
  "language_info": {
   "codemirror_mode": {
    "name": "ipython",
    "version": 3
   },
   "file_extension": ".py",
   "mimetype": "text/x-python",
   "name": "python",
   "nbconvert_exporter": "python",
   "pygments_lexer": "ipython3",
   "version": "3.12.0"
  }
 },
 "nbformat": 4,
 "nbformat_minor": 2
}
