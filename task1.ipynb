{
 "cells": [
  {
   "cell_type": "code",
   "execution_count": null,
   "metadata": {},
   "outputs": [],
   "source": [
    "%pip install --upgrade pip\n",
    "%pip install pandas panda matplotlib numpy collection nltk scikit-learn jsonschema scipy mysql-connector-python openpyxl\n",
    "%pip install feedparser\n",
    "\n",
    "import pandas as pd\n",
    "import matplotlib.pyplot as plt\n",
    "\n",
    "import feedparser"
   ]
  },
  {
   "cell_type": "markdown",
   "metadata": {},
   "source": [
    "Define RSS feed URLs"
   ]
  },
  {
   "cell_type": "code",
   "execution_count": 6,
   "metadata": {},
   "outputs": [],
   "source": [
    "RSS_URLS = ['http://www.dn.se/nyheter/m/rss/',\n",
    "            'https://rss.aftonbladet.se/rss2/small/pages/sections/senastenytt/', 'https://feeds.expressen.se/nyheter/',\n",
    "            'http://www.svd.se/?service=rss', 'http://api.sr.se/api/rss/program/83?format=145',\n",
    "            'http://www.svt.se/nyheter/rss.xml'\n",
    "              ]"
   ]
  },
  {
   "cell_type": "markdown",
   "metadata": {},
   "source": [
    "# Initialize an empty list to store the parsed articles"
   ]
  },
  {
   "cell_type": "code",
   "execution_count": 7,
   "metadata": {},
   "outputs": [],
   "source": [
    "posts = []"
   ]
  },
  {
   "cell_type": "markdown",
   "metadata": {},
   "source": [
    "# Loop through each RSS feed URL"
   ]
  },
  {
   "cell_type": "code",
   "execution_count": 10,
   "metadata": {},
   "outputs": [
    {
     "name": "stdout",
     "output_type": "stream",
     "text": [
      "                                               title  \\\n",
      "0            Experimentfilmaren Gunvor Nelson är död   \n",
      "1  Ingmar Nevéus: Jean-Marie Le Pen petades av si...   \n",
      "2  Thomas Vinterberg får hederspris på Göteborgs ...   \n",
      "3            Jean-Marie Le Pen är död – 96 år gammal   \n",
      "4                    Svensk heavy metal-legendar död   \n",
      "\n",
      "                                                link  \\\n",
      "0  https://www.dn.se/kultur/experimentfilmaren-gu...   \n",
      "1  https://www.dn.se/varlden/ingmar-neveus-jean-m...   \n",
      "2  https://www.dn.se/kultur/thomas-vinterberg-far...   \n",
      "3  https://www.dn.se/varlden/jean-marie-le-pen-ar...   \n",
      "4  https://www.dn.se/kultur/svensk-heavy-metal-le...   \n",
      "\n",
      "                        published  \\\n",
      "0  Tue, 7 Jan 2025 15:18:46 +0100   \n",
      "1  Tue, 7 Jan 2025 15:05:20 +0100   \n",
      "2  Tue, 7 Jan 2025 14:51:51 +0100   \n",
      "3  Tue, 7 Jan 2025 14:37:43 +0100   \n",
      "4  Tue, 7 Jan 2025 14:32:47 +0100   \n",
      "\n",
      "                                             summary  \\\n",
      "0  Den svenska experimentfilmaren Gunvor Nelson (...   \n",
      "1  ”Mina idéer var före sin tid”, sade Jean-Marie...   \n",
      "2  Den danske regissören Thomas Vinterberg hedras...   \n",
      "3  Grundaren av det franska högerpopulistiska par...   \n",
      "4  Ragne Wahlquist, frontman och gitarrist i band...   \n",
      "\n",
      "                            source  \n",
      "0  http://www.dn.se/nyheter/m/rss/  \n",
      "1  http://www.dn.se/nyheter/m/rss/  \n",
      "2  http://www.dn.se/nyheter/m/rss/  \n",
      "3  http://www.dn.se/nyheter/m/rss/  \n",
      "4  http://www.dn.se/nyheter/m/rss/  \n"
     ]
    }
   ],
   "source": [
    "for url in RSS_URLS:\n",
    "    try:\n",
    "        # Parse the RSS feed\n",
    "        feed = feedparser.parse(url)\n",
    "\n",
    "        # Check if the feed is parsed successfully\n",
    "        if feed.bozo:  # bozo flag indicates an issue in parsing\n",
    "            print(f\"Error parsing URL: {url}\")\n",
    "            continue\n",
    "\n",
    "        # Loop through each entry in the feed\n",
    "        for entry in feed.entries:\n",
    "            # Extract relevant fields from the entry\n",
    "            article = {\n",
    "                'title': entry.get('title', 'No title'),\n",
    "                'link': entry.get('link', 'No link'),\n",
    "                'published': entry.get('published', 'No date'),\n",
    "                'summary': entry.get('summary', 'No summary'),\n",
    "                'source': url  # Add source URL for reference\n",
    "            }\n",
    "\n",
    "            # Append the structured article to the posts list\n",
    "            posts.append(article)\n",
    "\n",
    "    except Exception as e:\n",
    "        print(f\"An error occurred while processing the URL {url}: {e}\")\n",
    "\n",
    "\n",
    "# Create a DataFrame from the list of posts\n",
    "df = pd.DataFrame(posts)\n",
    "print(df.head())"
   ]
  }
 ],
 "metadata": {
  "kernelspec": {
   "display_name": ".venv",
   "language": "python",
   "name": "python3"
  },
  "language_info": {
   "codemirror_mode": {
    "name": "ipython",
    "version": 3
   },
   "file_extension": ".py",
   "mimetype": "text/x-python",
   "name": "python",
   "nbconvert_exporter": "python",
   "pygments_lexer": "ipython3",
   "version": "3.12.5"
  }
 },
 "nbformat": 4,
 "nbformat_minor": 2
}
